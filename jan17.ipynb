{
 "cells": [
  {
   "cell_type": "code",
   "execution_count": 1,
   "metadata": {},
   "outputs": [],
   "source": [
    "#main\n",
    "import numpy as np\n",
    "from master import master\n",
    "from query import query\n",
    "from G_matrix import G_matrix\n",
    "from decoder import decoder\n",
    "\n",
    "# use hamming code for G\n",
    "# maybe write general program to make lookup table for single parity\n",
    "# try over actual data\n",
    "# measure access\n",
    "# use actual hamming code... my bad\n",
    "# measure access as a long term average\n",
    "# try case where encoding is just I but still distributed\n",
    "def rep():\n",
    "    data = np.genfromtxt(\"framingham_cleaned_file.csv\", dtype=float, comments='#', delimiter=\",\", skip_header=1)\n",
    "    a = np.eye(3)\n",
    "    b = np.ones((3,1))\n",
    "    G = np.hstack((a,b))\n",
    "    from decoder import decoder\n",
    "    decoder = decoder(3)\n",
    "    data = np.hstack((data,np.zeros((data.shape[0],2)))) # need m|data.shape[1] = num cols\n",
    "    m = 6\n",
    "    nodes_array = master(m, data, decoder, G)\n",
    "    return 0\n",
    "\n",
    "#for real this time\n",
    "def hamming():\n",
    "    from general_decoder import general_decoder\n",
    "    data = np.genfromtxt(\"framingham_cleaned_file.csv\", dtype=float, comments='#', delimiter=\",\", skip_header=1)\n",
    "    I = np.eye(7)\n",
    "    \"\"\"I = np.where(I == 1, -1, I)\n",
    "    I = np.where(I == 0, 1, I)\"\"\" # pretty sure this makes no sense but should clarify\n",
    "    B = np.array([\n",
    "        [1,1,1,1,1,1,1],\n",
    "        [-1,-1,-1,1,1,1,1],\n",
    "        [-1,1,1,-1,-1,1,1],\n",
    "        [1,-1,-1,-1,-1,1,1],\n",
    "        [1,-1,1,-1,1,-1,1],\n",
    "        [-1,1,-1,1,-1,1,-1],\n",
    "        [-1,-1,1,1,-1,-1,1],\n",
    "        [1,1,-1,1,-1,-1,1]\n",
    "    ]).T\n",
    "    G = np.hstack((I,B))\n",
    "\n",
    "    data = np.hstack((data, np.zeros((data.shape[0], 5))))  # need m*g.sys.shape = data.shape[1] = num cols\n",
    "    m = 3\n",
    "\n",
    "    decoder = general_decoder(B.T)\n",
    "    nodes_array = master(m, data, decoder, G)\n",
    "\n",
    "    return 0\n",
    "\n",
    "\n",
    "def identity():\n",
    "    \"\"\"\n",
    "    test for trivial encoding scheme w/ same params as for hamming code i think\n",
    "    \"\"\"\n",
    "    data = np.genfromtxt(\"framingham_cleaned_file.csv\", dtype=float, comments='#', delimiter=\",\", skip_header=1)\n",
    "    G = np.eye(7)\n",
    "    decoder = {}\n",
    "    n = 7\n",
    "    all_combinations = np.array(np.meshgrid(*[[-1, 1]] * n)).T.reshape(-1, n)  # vectors in rows\n",
    "    for v in all_combinations:\n",
    "        decoder[tuple(v)] = v\n",
    "    data = np.hstack((data, np.zeros((data.shape[0], 5))))\n",
    "    m = 3\n",
    "    nodes_array = master(m, data, decoder, G)\n"
   ]
  },
  {
   "cell_type": "code",
   "execution_count": 3,
   "metadata": {},
   "outputs": [
    {
     "name": "stdout",
     "output_type": "stream",
     "text": [
      "6.098\n",
      "measured access for hamming code0\n",
      "10.44\n",
      "measured access for repetition code0\n",
      "21.0\n",
      "measured access for identity codeNone\n"
     ]
    }
   ],
   "source": [
    "print(f\"measured access for hamming code\")\n",
    "hamming()\n",
    "print(f\"measured access for repetition code\")\n",
    "rep()\n",
    "print(f\"measured access for identity code\")\n",
    "identity()\n"
   ]
  },
  {
   "cell_type": "code",
   "execution_count": null,
   "metadata": {},
   "outputs": [],
   "source": [
    "#issue: how to do decoding for the extra/placeholder columns. lookup table is for {+-1}, so cannot give querries with 0"
   ]
  }
 ],
 "metadata": {
  "kernelspec": {
   "display_name": "Python 3 (ipykernel)",
   "language": "python",
   "name": "python3"
  },
  "language_info": {
   "codemirror_mode": {
    "name": "ipython",
    "version": 3
   },
   "file_extension": ".py",
   "mimetype": "text/x-python",
   "name": "python",
   "nbconvert_exporter": "python",
   "pygments_lexer": "ipython3",
   "version": "3.11.4"
  }
 },
 "nbformat": 4,
 "nbformat_minor": 1
}
